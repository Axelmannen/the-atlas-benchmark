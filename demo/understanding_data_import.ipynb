{
 "cells": [
  {
   "cell_type": "code",
   "execution_count": null,
   "metadata": {},
   "outputs": [],
   "source": [
    "# Copyright (c) 2022 - for information on the respective copyright owner see the NOTICE file or the repository https://github.com/boschresearch/the-atlas-benchmark\n",
    "#\n",
    "# SPDX-License-Identifier: Apache-2.0\n",
    "\n",
    "# System imports\n",
    "\n",
    "import yaml\n",
    "from context import Dataset\n",
    "import numpy as np"
   ]
  },
  {
   "cell_type": "markdown",
   "metadata": {},
   "source": [
    "Create the dataset object based on the yaml file configuration"
   ]
  },
  {
   "cell_type": "code",
   "execution_count": null,
   "metadata": {},
   "outputs": [],
   "source": [
    "# Tested this instruction for the following datasets\n",
    "# input_dataset = '../cfg/dataset_config_hotel.yaml'\n",
    "input_dataset = '../cfg/dataset_config_eth.yaml'\n",
    "# input_dataset = '../cfg/dataset_config_thor3.yaml'\n",
    "# input_dataset = '../cfg/dataset_config_atc.yaml'\n",
    "# input_dataset = '../cfg/dataset_config_test_traj.yaml'\n",
    "# input_dataset = '../cfg/dataset_config_test_point_obstacles.yaml'\n",
    "# input_dataset = '../cfg/dataset_config_newdataset.yaml'\n",
    "\n",
    "with open(input_dataset, 'r') as file:\n",
    "    benchmark_cfg = yaml.load(file, Loader=yaml.FullLoader)\n",
    "\n",
    "# The benchmark_cfg is a dictionary\n",
    "\n",
    "dataset = Dataset(benchmark_cfg)"
   ]
  },
  {
   "cell_type": "markdown",
   "metadata": {},
   "source": [
    "Look at the available members of the dataset class"
   ]
  },
  {
   "cell_type": "code",
   "execution_count": null,
   "metadata": {},
   "outputs": [],
   "source": [
    "# Showing the fields of the dataset class\n",
    "print('The name of the dataset is', dataset.name)\n",
    "print('The path to the dataset is', dataset.path)\n",
    "print(\"The goals in this dataset are\\n\", dataset.goals)\n",
    "if(dataset.obstacle_type==1 and dataset.map.any):\n",
    "    print(\"The map is contained in the array of shape \", dataset.map.shape)\n",
    "if(dataset.obstacle_type==2):\n",
    "    print(\"The point obstacles in the environment are \", dataset.map)\n",
    "\n",
    "print(\"The stream of detections is a numpy array of shape\", dataset.detections.shape)\n",
    "print(\"There number of unique pedestrian tracks in this dataset:\", len(dataset.pedestrians))"
   ]
  },
  {
   "cell_type": "code",
   "execution_count": null,
   "metadata": {},
   "outputs": [],
   "source": [
    "pedestrian_num = 0\n",
    "print(\"The first detection of pedestrian\", pedestrian_num, \"is at frame\", dataset.pedestrians[pedestrian_num].start_frame)\n",
    "print(\"The last detection of pedestrian\", pedestrian_num, \"is at frame\", dataset.pedestrians[pedestrian_num].end_frame)\n",
    "print(\"The frames in which pedestrian\", pedestrian_num, \"is detected are\", dataset.pedestrians[pedestrian_num].frames)\n",
    "print(\"This pedestrian is detected in\", len(dataset.pedestrians[pedestrian_num].frames), \"frames.\")\n",
    "print(\"The dataset ID of pedestrian\", pedestrian_num, \"is\", dataset.pedestrians[pedestrian_num].ped_id)\n",
    "print(\"The trajectory of pedestrian\", pedestrian_num, \"is\", dataset.pedestrians[pedestrian_num].trajectory)\n",
    "print(\"Trajectory of this pedestrian is length\", len(dataset.pedestrians[pedestrian_num].trajectory))"
   ]
  },
  {
   "cell_type": "markdown",
   "metadata": {},
   "source": [
    "Here some visualization options are highlighted"
   ]
  },
  {
   "cell_type": "code",
   "execution_count": null,
   "metadata": {},
   "outputs": [],
   "source": [
    "import matplotlib as mpl\n",
    "mpl.rcParams['figure.dpi'] = 300\n",
    "\n",
    "# Plotting all observed trajectories for pedestrians between 1 and 2\n",
    "dataset.plot_ped(0,3)"
   ]
  },
  {
   "cell_type": "code",
   "execution_count": null,
   "metadata": {},
   "outputs": [],
   "source": [
    "# plot the positions of all pedestrians from the given frame \n",
    "# for the given duration (i.e. number of annotated frames)\n",
    "dataset.plot_frame_period(1000,12)"
   ]
  },
  {
   "cell_type": "code",
   "execution_count": null,
   "metadata": {},
   "outputs": [],
   "source": [
    "# plots which pedestrian is detected in which frame\n",
    "# this is not a super useful function\n",
    "\n",
    "dataset.plot_frame_skip()"
   ]
  }
 ],
 "metadata": {
  "interpreter": {
   "hash": "25c18c03afd7d679242d2ee4b3c37ea4d94864fdb6c42e824a0531c5b7f80aa3"
  },
  "kernelspec": {
   "display_name": "Python 3.8.10 ('atlas-env-release-test': venv)",
   "language": "python",
   "name": "python3"
  },
  "language_info": {
   "codemirror_mode": {
    "name": "ipython",
    "version": 3
   },
   "file_extension": ".py",
   "mimetype": "text/x-python",
   "name": "python",
   "nbconvert_exporter": "python",
   "pygments_lexer": "ipython3",
   "version": "3.8.10"
  }
 },
 "nbformat": 4,
 "nbformat_minor": 1
}
